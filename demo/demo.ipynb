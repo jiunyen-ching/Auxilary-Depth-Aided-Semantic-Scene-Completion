{
 "cells": [
  {
   "cell_type": "code",
   "execution_count": 2,
   "id": "251b14d7",
   "metadata": {},
   "outputs": [
    {
     "name": "stdout",
     "output_type": "stream",
     "text": [
      "#refs#\n",
      "#subsystem#\n",
      "accelData\n",
      "depths\n",
      "images\n",
      "instances\n",
      "labels\n",
      "names\n",
      "namesToIds\n",
      "rawDepthFilenames\n",
      "rawDepths\n",
      "rawRgbFilenames\n",
      "sceneTypes\n",
      "scenes\n"
     ]
    }
   ],
   "source": [
    "import numpy as np\n",
    "import h5py\n",
    "import cv2\n",
    "import os\n",
    "from shutil import copyfile\n",
    "\n",
    "MAT_FILE    = '../data/temp/nyu_depth_v2_labeled.mat'\n",
    "\n",
    "f = h5py.File(MAT_FILE, 'r')\n",
    "\n",
    "for key in f.keys():\n",
    "    print(key)"
   ]
  }
 ],
 "metadata": {
  "kernelspec": {
   "display_name": "Python 3",
   "language": "python",
   "name": "python3"
  },
  "language_info": {
   "codemirror_mode": {
    "name": "ipython",
    "version": 3
   },
   "file_extension": ".py",
   "mimetype": "text/x-python",
   "name": "python",
   "nbconvert_exporter": "python",
   "pygments_lexer": "ipython3",
   "version": "3.8.8"
  }
 },
 "nbformat": 4,
 "nbformat_minor": 5
}
